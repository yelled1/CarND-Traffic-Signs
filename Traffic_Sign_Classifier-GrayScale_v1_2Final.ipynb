{
 "cells": [
  {
   "cell_type": "markdown",
   "metadata": {
    "deletable": true,
    "editable": true
   },
   "source": [
    "# Self-Driving Car Engineer Nanodegree\n",
    "\n",
    "## Deep Learning\n",
    "\n",
    "## Project: Build a Traffic Sign Recognition Classifier\n",
    "\n",
    "In this notebook, a template is provided for you to implement your functionality in stages which is required to successfully complete this project. If additional code is required that cannot be included in the notebook, be sure that the Python code is successfully imported and included in your submission, if necessary. Sections that begin with **'Implementation'** in the header indicate where you should begin your implementation for your project. Note that some sections of implementation are optional, and will be marked with **'Optional'** in the header.\n",
    "\n",
    "In addition to implementing code, there will be questions that you must answer which relate to the project and your implementation. Each section where you will answer a question is preceded by a **'Question'** header. Carefully read each question and provide thorough answers in the following text boxes that begin with **'Answer:'**. Your project submission will be evaluated based on your answers to each of the questions and the implementation you provide.\n",
    "\n",
    ">**Note:** Code and Markdown cells can be executed using the **Shift + Enter** keyboard shortcut. In addition, Markdown cells can be edited by typically double-clicking the cell to enter edit mode."
   ]
  },
  {
   "cell_type": "markdown",
   "metadata": {
    "deletable": true,
    "editable": true
   },
   "source": [
    "---\n",
    "## Step 0: Load The Data"
   ]
  },
  {
   "cell_type": "code",
   "execution_count": 1,
   "metadata": {
    "collapsed": true,
    "deletable": true,
    "editable": true
   },
   "outputs": [],
   "source": [
    "# Load pickled data\n",
    "import pickle\n",
    "\n",
    "# TODO: Fill this in based on where you saved the training and testing data\n",
    "\n",
    "training_file = '../traffic-signs-data/train.p'\n",
    "testing_file  = '../traffic-signs-data/test.p'\n",
    "\n",
    "with open(training_file, mode='rb') as f: train = pickle.load(f)\n",
    "with open(testing_file, mode='rb') as f:  test = pickle.load(f)\n",
    "    \n",
    "X_Otrain, y_train = train['features'], train['labels']\n",
    "X_Otest, y_test   = test['features'], test['labels']"
   ]
  },
  {
   "cell_type": "code",
   "execution_count": 2,
   "metadata": {
    "collapsed": false,
    "deletable": true,
    "editable": true
   },
   "outputs": [],
   "source": [
    "import numpy as np \n",
    "import cv2\n",
    "\n",
    "def cnv2gray(vec): \n",
    "    return cv2.cvtColor(vec.astype(np.uint8), cv2.COLOR_BGR2GRAY)\n",
    "\n",
    "X_Train = np.zeros([*X_Otrain.shape[:-1]])\n",
    "for image in range(X_Otrain.shape[0]):\n",
    "    X_Train[image] = cnv2gray(X_Otrain[image])\n",
    "X_Test = np.zeros([*X_Otest.shape[:-1]])\n",
    "for image in range(X_Otest.shape[0]):\n",
    "    X_Test[image] = cnv2gray(X_Otest[image])\n",
    "X_Train = np.expand_dims(X_Train, axis=4)\n",
    "X_Test = np.expand_dims(X_Test, axis=4)"
   ]
  },
  {
   "cell_type": "markdown",
   "metadata": {
    "deletable": true,
    "editable": true
   },
   "source": [
    "---\n",
    "\n",
    "## Step 1: Dataset Summary & Exploration\n",
    "\n",
    "The pickled data is a dictionary with 4 key/value pairs:\n",
    "\n",
    "- `'features'` is a 4D array containing raw pixel data of the traffic sign images, (num examples, width, height, channels).\n",
    "- `'labels'` is a 2D array containing the label/class id of the traffic sign. The file `signnames.csv` contains id -> name mappings for each id.\n",
    "- `'sizes'` is a list containing tuples, (width, height) representing the the original width and height the image.\n",
    "- `'coords'` is a list containing tuples, (x1, y1, x2, y2) representing coordinates of a bounding box around the sign in the image. **THESE COORDINATES ASSUME THE ORIGINAL IMAGE. THE PICKLED DATA CONTAINS RESIZED VERSIONS (32 by 32) OF THESE IMAGES**\n",
    "\n",
    "Complete the basic data summary below."
   ]
  },
  {
   "cell_type": "code",
   "execution_count": 3,
   "metadata": {
    "collapsed": false,
    "deletable": true,
    "editable": true
   },
   "outputs": [
    {
     "name": "stdout",
     "output_type": "stream",
     "text": [
      "Number of training examples = 39209\n",
      "Number of testing examples = 12630\n",
      "Image data shape = (32, 32, 1)\n",
      "Number of classes = 43\n",
      "Row not int ['ClassId', 'SignName']\n"
     ]
    }
   ],
   "source": [
    "### Replace each question mark with the appropriate value.\n",
    "\n",
    "# TODO: Number of training examples\n",
    "n_train = X_Train.shape[0]\n",
    "\n",
    "# TODO: Number of testing examples.\n",
    "n_test = X_Test.shape[0]\n",
    "\n",
    "# TODO: What's the shape of an traffic sign image?\n",
    "image_shape = X_Train.shape[1:]\n",
    "\n",
    "# TODO: How many unique classes/labels there are in the dataset.\n",
    "n_classes = len(set(y_train))\n",
    "\n",
    "print(\"Number of training examples =\", n_train)\n",
    "print(\"Number of testing examples =\", n_test)\n",
    "print(\"Image data shape =\", image_shape)\n",
    "print(\"Number of classes =\", n_classes)\n",
    "\n",
    "#= below is the code to map sign classifier digit with image\n",
    "#= Makes the data verification much much easier\n",
    "import csv\n",
    "SignD = {}\n",
    "reader = csv.reader(open('signnames.csv', 'r'))\n",
    "for row in reader: \n",
    "    try: SignD[int(row[0])] = row[1]\n",
    "    except: print('Row not int', row)"
   ]
  },
  {
   "cell_type": "markdown",
   "metadata": {
    "deletable": true,
    "editable": true
   },
   "source": [
    "Visualize the German Traffic Signs Dataset using the pickled file(s). This is open ended, suggestions include: plotting traffic sign images, plotting the count of each sign, etc.\n",
    "\n",
    "The [Matplotlib](http://matplotlib.org/) [examples](http://matplotlib.org/examples/index.html) and [gallery](http://matplotlib.org/gallery.html) pages are a great resource for doing visualizations in Python.\n",
    "\n",
    "**NOTE:** It's recommended you start with something simple first. If you wish to do more, come back to it after you've completed the rest of the sections."
   ]
  },
  {
   "cell_type": "code",
   "execution_count": 4,
   "metadata": {
    "collapsed": false,
    "deletable": true,
    "editable": true
   },
   "outputs": [
    {
     "name": "stdout",
     "output_type": "stream",
     "text": [
      "<built-in method squeeze of numpy.uint8 object at 0x7fa6aa3f3168> Turn left ahead\n"
     ]
    },
    {
     "data": {
      "image/png": "[encoded data removed]",
      "text/plain": [
       "<matplotlib.figure.Figure at 0x7fa6dbf24080>"
      ]
     },
     "metadata": {},
     "output_type": "display_data"
    }
   ],
   "source": [
    "### Data exploration visualization goes here.\n",
    "### Feel free to use as many code cells as needed.\n",
    "import random\n",
    "import numpy as np\n",
    "import matplotlib.pyplot as plt\n",
    "# Visualizations will be shown in the notebook.\n",
    "%matplotlib inline\n",
    "\n",
    "index = random.randint(0, len(X_Train))\n",
    "image = X_Train[index].squeeze()\n",
    "\n",
    "plt.figure(figsize=(1,1))\n",
    "plt.imshow(image, cmap=\"gray\")\n",
    "print(y_train[index].squeeze, SignD[y_train[index]])\n",
    "#= Just keep hitting Ctl-Return to visualize\n",
    "#= some of the images are really poor!!!\n",
    "#= The csv import above really Helps!"
   ]
  },
  {
   "cell_type": "markdown",
   "metadata": {
    "deletable": true,
    "editable": true
   },
   "source": [
    "----\n",
    "\n",
    "## Step 2: Design and Test a Model Architecture\n",
    "\n",
    "Design and implement a deep learning model that learns to recognize traffic signs. Train and test your model on the [German Traffic Sign Dataset](http://benchmark.ini.rub.de/?section=gtsrb&subsection=dataset).\n",
    "\n",
    "There are various aspects to consider when thinking about this problem:\n",
    "\n",
    "- Neural network architecture\n",
    "- Play around preprocessing techniques (normalization, rgb to grayscale, etc)\n",
    "- Number of examples per label (some have more than others).\n",
    "- Generate fake data.\n",
    "\n",
    "Here is an example of a [published baseline model on this problem](http://yann.lecun.com/exdb/publis/pdf/sermanet-ijcnn-11.pdf). It's not required to be familiar with the approach used in the paper but, it's good practice to try to read papers like these.\n",
    "\n",
    "**NOTE:** The LeNet-5 implementation shown in the [classroom](https://classroom.udacity.com/nanodegrees/nd013/parts/fbf77062-5703-404e-b60c-95b78b2f3f9e/modules/6df7ae49-c61c-4bb2-a23e-6527e69209ec/lessons/601ae704-1035-4287-8b11-e2c2716217ad/concepts/d4aca031-508f-4e0b-b493-e7b706120f81) at the end of the CNN lesson is a solid starting point. You'll have to change the number of classes and possibly the preprocessing, but aside from that it's plug and play!"
   ]
  },
  {
   "cell_type": "markdown",
   "metadata": {
    "deletable": true,
    "editable": true
   },
   "source": [
    "### Implementation\n",
    "\n",
    "Use the code cell (or multiple code cells, if necessary) to implement the first step of your project. Once you have completed your implementation and are satisfied with the results, be sure to thoroughly answer the questions that follow."
   ]
  },
  {
   "cell_type": "markdown",
   "metadata": {
    "deletable": true,
    "editable": true
   },
   "source": [
    "### Question 1 \n",
    "\n",
    "_Describe how you preprocessed the data. Why did you choose that technique?_"
   ]
  },
  {
   "cell_type": "markdown",
   "metadata": {
    "deletable": true,
    "editable": true
   },
   "source": [
    "**Answer:**"
   ]
  },
  {
   "cell_type": "code",
   "execution_count": 5,
   "metadata": {
    "collapsed": false,
    "deletable": true,
    "editable": true,
    "scrolled": false
   },
   "outputs": [
    {
     "name": "stdout",
     "output_type": "stream",
     "text": [
      "[0 0 0 0 0 0 0 0 0 0 0 0 0 0 0 0 0 0 0 0]\n",
      "[42 42 42 42 42 42 42 42 42 42 42 42 42 42 42 42 42 42 42 42]\n",
      "min 210\n",
      "Max 2250\n"
     ]
    },
    {
     "data": {
      "image/png": "[encoded data removed]",
      "text/plain": [
       "<matplotlib.figure.Figure at 0x7fa6dbf1cdd8>"
      ]
     },
     "metadata": {},
     "output_type": "display_data"
    },
    {
     "name": "stdout",
     "output_type": "stream",
     "text": [
      "(0, 210) Speed limit (20km/h)\n",
      "(19, 210) Dangerous curve to the left\n",
      "(37, 210) Go straight or left\n"
     ]
    }
   ],
   "source": [
    "import numpy as np\n",
    "\n",
    "print(train['labels'][:20])\n",
    "print(train['labels'][-20:])\n",
    "# Looking at above definitely Not OPTIONAL\n",
    "\n",
    "### Generate data additional data (OPTIONAL!) \n",
    "### and split the data into training/validation/testing sets here.\n",
    "from sklearn.utils import shuffle\n",
    "X_Train, y_train = shuffle(X_Train, y_train)\n",
    "\n",
    "#= sample distribution 43 catagories but \n",
    "labelSet = set(train['labels'])\n",
    "yLabelCnt = [ (ys, np.sum(np.equal(ys,train['labels']))) for ys in set(train['labels']) ]\n",
    "print ('min', min( yv[-1] for yv in yLabelCnt))\n",
    "print ('Max', max( yv[-1] for yv in yLabelCnt))\n",
    "plt.hist(list(yv[-1] for yv in yLabelCnt))\n",
    "plt.show()\n",
    "#= as shown below we got some signs more than others\n",
    "#= problem is how do you keep balanced same or similar.\n",
    "#= 210*43 won't be enough to train on\n",
    "#= ....?E@$!@\n",
    "#= Really low ones are, \n",
    "#= which I will see if it can be predicted correctly in Q below\n",
    "for ix in (0,19,37):\n",
    "    print ( yLabelCnt[ix], SignD[ix] )"
   ]
  },
  {
   "cell_type": "code",
   "execution_count": 6,
   "metadata": {
    "collapsed": false,
    "deletable": true,
    "editable": true
   },
   "outputs": [
    {
     "name": "stdout",
     "output_type": "stream",
     "text": [
      "Updated Image Shape: (32, 32, 1)\n"
     ]
    }
   ],
   "source": [
    "### Preprocess the data here.\n",
    "### Feel free to use as many code cells as needed.\n",
    "\n",
    "#= Just using the advised 20%\n",
    "from sklearn.model_selection import train_test_split\n",
    "X_Train, X_validation, y_train, y_validation =\\\n",
    "    train_test_split(X_Train, y_train, test_size=0.2, random_state=0)\n",
    "print(\"Updated Image Shape: {}\".format(X_Train[0].shape))"
   ]
  },
  {
   "cell_type": "markdown",
   "metadata": {
    "deletable": true,
    "editable": true
   },
   "source": [
    "### Question 2\n",
    "\n",
    "Describe how you set up the training, validation and testing data for your model. **Optional**: If you generated additional data, how did you generate the data? Why did you generate the data? What are the differences in the new dataset (with generated data) from the original dataset?_"
   ]
  },
  {
   "cell_type": "code",
   "execution_count": 7,
   "metadata": {
    "collapsed": false,
    "deletable": true,
    "editable": true
   },
   "outputs": [],
   "source": [
    "import tensorflow as tf\n",
    "from tensorflow.contrib.layers import flatten\n",
    "\n",
    "def conv2d(x, W, bSz, strides=1, padding='SAME'):\n",
    "    #conv2D wrapper, w/ biases & ReLu activation\n",
    "    assert padding in ('SAME', 'VALID')\n",
    "    b = tf.Variable(tf.zeros(bSz))\n",
    "    x = tf.nn.conv2d(x, W, strides=[1, strides, strides, 1], padding=padding)\n",
    "    x = tf.nn.bias_add(x, b)\n",
    "    return tf.nn.relu(x)\n",
    "\n",
    "def maxpool2d(x, k=2, padding='SAME'):\n",
    "    return tf.nn.max_pool( x, ksize=[1,k,k,1], \n",
    "                            strides=[1,k,k,1],\n",
    "                              padding=padding)\n",
    "\n",
    "#28x28x1  1st layer shape the image to\n",
    "def LeNet(x, dbg=False):\n",
    "    \"\"\" # This is done to if 1: for inline execution\n",
    "    x = tf.placeholder(tf.float32, (None, 32, 32, 1))\n",
    "    y = tf.placeholder(tf.int32, (None))\n",
    "    one_hot_y = tf.one_hot(y, 10)\n",
    "    x, y = X_train, y_train\n",
    "    \"\"\"\n",
    "    # Hyperparameters\n",
    "    mu = 0\n",
    "    sigma = 0.1\n",
    "    # MNIST total clses (0~9 digits)\n",
    "    # TODO: Layer 1: Convolutional. Input = 32x32x1. Output = 28x28x6.\n",
    "    cnn1_Wgt = tf.Variable(tf.truncated_normal(shape=(5,5,1,6), mean=mu, stddev=sigma)) # 1 as input is 1\n",
    "    cnn1_Layr = conv2d(x, cnn1_Wgt, 6, strides=1, padding='VALID')\n",
    "    #conv2d(x, cnn1_Wgt, cnn1_b, strides=1, padding='SAME') #<tf.Tensor 'Relu_5:0' shape=(55000, 32, 32, 6)..\n",
    "    if dbg: print( cnn1_Layr )\n",
    "    # TODO: Pooling. Input = 28x28x6. Output = 14x14x6.    \n",
    "    pool1Layr = maxpool2d(cnn1_Layr, k=2, padding='SAME') # 'VALID shows same shape ???????\n",
    "    if dbg: print( pool1Layr )\n",
    "    # TODO: Layer 2: Convolutional. Output = 10x10x16.\n",
    "    cnn2_Wgt = tf.Variable(tf.truncated_normal(shape=(5,5,6,16), mean=mu, stddev=sigma))\n",
    "    cnn2_Layr = conv2d(pool1Layr, cnn2_Wgt, 16, strides=1, padding='VALID')\n",
    "    if dbg: print( cnn2_Layr )\n",
    "    # TODO: Pooling. Input = 10x10x16. Output = 5x5x16.\n",
    "    pool2Layr = maxpool2d(cnn2_Layr, k=2, padding='VALID') # 'VALID o SAME has same shape ???????\n",
    "    if dbg: print( pool2Layr )\n",
    "    # TODO: Flatten. Input = 5x5x16. Output = 400.\n",
    "    flattnd = flatten( pool2Layr )\n",
    "    if dbg: print( flattnd )\n",
    "    # TODO: Layer 3: Fully Connected. Input = 400. Output = 120.\n",
    "    fc1_W = tf.Variable(tf.truncated_normal(shape=(400, 120), mean = mu, stddev = sigma))\n",
    "    fc1_Layr  = tf.matmul(flattnd, fc1_W) + tf.Variable(tf.zeros(120))\n",
    "    if dbg: print( fc1_Layr )\n",
    "    fc2_W = tf.Variable(tf.truncated_normal(shape=(120, 84), mean = mu, stddev = sigma))\n",
    "    fc2_Layr  = tf.nn.relu( tf.matmul(fc1_Layr, fc2_W) + tf.Variable(tf.zeros(84)) )\n",
    "    if dbg: print( fc2_Layr )\n",
    "    fc3_W = tf.Variable(tf.truncated_normal(shape=(84, n_classes), mean = mu, stddev = sigma))\n",
    "    logitL  = tf.matmul(fc2_Layr, fc3_W) + tf.Variable(tf.zeros(n_classes))    \n",
    "    if dbg: print( logitL )\n",
    "    return logitL\n",
    "\n",
    "\n",
    "\n",
    "\n",
    "x = tf.placeholder(tf.float32, (None, 32, 32, 1))\n",
    "y = tf.placeholder(tf.int32, (None))\n",
    "one_hot_y = tf.one_hot(y, n_classes)"
   ]
  },
  {
   "cell_type": "markdown",
   "metadata": {
    "deletable": true,
    "editable": true
   },
   "source": [
    "### Question 3\n",
    "\n",
    "_What does your final architecture look like? (Type of model, layers, sizes, connectivity, etc.)  For reference on how to build a deep neural network using TensorFlow, see [Deep Neural Network in TensorFlow\n",
    "](https://classroom.udacity.com/nanodegrees/nd013/parts/fbf77062-5703-404e-b60c-95b78b2f3f9e/modules/6df7ae49-c61c-4bb2-a23e-6527e69209ec/lessons/b516a270-8600-4f93-a0a3-20dfeabe5da6/concepts/83a3a2a2-a9bd-4b7b-95b0-eb924ab14432) from the classroom._\n"
   ]
  },
  {
   "cell_type": "markdown",
   "metadata": {
    "deletable": true,
    "editable": true
   },
   "source": [
    "**Answer:**\n",
    "Kept it way it was for this run, but will update the model & redo after all Q's are answered"
   ]
  },
  {
   "cell_type": "code",
   "execution_count": 8,
   "metadata": {
    "collapsed": false,
    "deletable": true,
    "editable": true
   },
   "outputs": [
    {
     "name": "stdout",
     "output_type": "stream",
     "text": [
      "Training...\n",
      "\n",
      "EPOCH 1 ...\n",
      "Validation Accuracy = 0.550\n",
      "\n",
      "EPOCH 2 ...\n",
      "Validation Accuracy = 0.774\n",
      "\n",
      "EPOCH 3 ...\n",
      "Validation Accuracy = 0.766\n",
      "\n",
      "EPOCH 4 ...\n",
      "Validation Accuracy = 0.861\n",
      "\n",
      "EPOCH 5 ...\n",
      "Validation Accuracy = 0.868\n",
      "\n",
      "EPOCH 6 ...\n",
      "Validation Accuracy = 0.903\n",
      "\n",
      "EPOCH 7 ...\n",
      "Validation Accuracy = 0.952\n",
      "\n",
      "EPOCH 8 ...\n",
      "Validation Accuracy = 0.954\n",
      "\n",
      "EPOCH 9 ...\n",
      "Validation Accuracy = 0.943\n",
      "\n",
      "EPOCH 10 ...\n",
      "Validation Accuracy = 0.962\n",
      "\n",
      "EPOCH 11 ...\n",
      "Validation Accuracy = 0.962\n",
      "\n",
      "EPOCH 12 ...\n",
      "Validation Accuracy = 0.964\n",
      "\n",
      "EPOCH 13 ...\n",
      "Validation Accuracy = 0.966\n",
      "\n",
      "EPOCH 14 ...\n",
      "Validation Accuracy = 0.969\n",
      "\n",
      "EPOCH 15 ...\n",
      "Validation Accuracy = 0.968\n",
      "\n",
      "EPOCH 16 ...\n",
      "Validation Accuracy = 0.972\n",
      "\n",
      "EPOCH 17 ...\n",
      "Validation Accuracy = 0.962\n",
      "\n",
      "EPOCH 18 ...\n",
      "Validation Accuracy = 0.966\n",
      "\n",
      "EPOCH 19 ...\n",
      "Validation Accuracy = 0.973\n",
      "\n",
      "EPOCH 20 ...\n",
      "Validation Accuracy = 0.970\n",
      "\n",
      "BATCH_SIZE 128\n"
     ]
    }
   ],
   "source": [
    "# Attempted model with \n",
    "EPOCHS = 20\n",
    "BATCH_SIZE = 128\n",
    "rate = 0.0005\n",
    "\n",
    "logits = LeNet(x)\n",
    "#cross_entropy = tf.nn.softmax_cross_entropy_with_logits(logits, one_hot_y)\n",
    "cross_entropy = tf.nn.softmax_cross_entropy_with_logits(logits=logits, labels=one_hot_y)\n",
    "loss_operation = tf.reduce_mean(cross_entropy)\n",
    "optimizer = tf.train.RMSPropOptimizer(learning_rate = rate)\n",
    "training_operation = optimizer.minimize(loss_operation)\n",
    "\n",
    "\n",
    "# ## Model Evaluation\n",
    "\n",
    "correct_prediction = tf.equal(tf.argmax(logits, 1), tf.argmax(one_hot_y, 1))\n",
    "accuracy_operation = tf.reduce_mean(tf.cast(correct_prediction, tf.float32))\n",
    "saver = tf.train.Saver()\n",
    "\n",
    "def evaluate(X_data, y_data):\n",
    "    num_examples = len(X_data)\n",
    "    total_accuracy = 0\n",
    "    sess = tf.get_default_session()\n",
    "    for offset in range(0, num_examples, BATCH_SIZE):\n",
    "        batch_x, batch_y = X_data[offset:offset+BATCH_SIZE], y_data[offset:offset+BATCH_SIZE]\n",
    "        accuracy = sess.run(accuracy_operation, feed_dict={x: batch_x, y: batch_y})\n",
    "        total_accuracy += (accuracy * len(batch_x))\n",
    "    return total_accuracy / num_examples\n",
    "\n",
    "\n",
    "# ## Train the Model\n",
    "# Run the training data through the training pipeline to train the model.\n",
    "\n",
    "with tf.Session() as sess:\n",
    "    sess.run(tf.global_variables_initializer())\n",
    "    num_examples = len(X_Train)\n",
    "    \n",
    "    print(\"Training...\")\n",
    "    print()\n",
    "    for i in range(EPOCHS):\n",
    "        X_Train, y_train = shuffle(X_Train, y_train)\n",
    "        for offset in range(0, num_examples, BATCH_SIZE):\n",
    "            end = offset + BATCH_SIZE\n",
    "            batch_x, batch_y = X_Train[offset:end], y_train[offset:end]\n",
    "            sess.run(training_operation, feed_dict={x: batch_x, y: batch_y})\n",
    "            \n",
    "        validation_accuracy = evaluate(X_validation, y_validation)\n",
    "        #if i < EPOCHS*.86 and i%10 !=0: continue\n",
    "        print(\"EPOCH {} ...\".format(i+1))\n",
    "        print(\"Validation Accuracy = {:.3f}\".format(validation_accuracy))\n",
    "        print()\n",
    "    print('BATCH_SIZE', BATCH_SIZE)\n",
    "    #saver.save(sess, 'lenet')\n",
    "    #print(\"Model saved\")\n",
    "\n",
    "    # NOT SAVING IT'S ACTUALLY WORSE\n",
    "\n",
    "#GradientDescentO 0.054 EPOCHS=100 BATCH_SIZE=62800 TAccuracy 0.057 Definitly not way to go xxx\n",
    "#RMSPropOptimizer EPOCHS=100 BATCH_SIZE=12800 .933 TAccuracy 0.859\n",
    "#Adams 0.306 EPOCHS=100 BATCH_SIZE=62800 \n",
    "#RMSPropOptimizer Above but I decreased the learning rate. Jumps around less & Smaller BATCH_SIZE seems to work better "
   ]
  },
  {
   "cell_type": "markdown",
   "metadata": {
    "deletable": true,
    "editable": true
   },
   "source": [
    "### Not as good but very close!"
   ]
  },
  {
   "cell_type": "code",
   "execution_count": 9,
   "metadata": {
    "collapsed": false,
    "deletable": true,
    "editable": true
   },
   "outputs": [
    {
     "name": "stdout",
     "output_type": "stream",
     "text": [
      "Training...\n",
      "\n",
      "EPOCH 1 ...\n",
      "Validation Accuracy = 0.577\n",
      "\n",
      "EPOCH 2 ...\n",
      "Validation Accuracy = 0.740\n",
      "\n",
      "EPOCH 3 ...\n",
      "Validation Accuracy = 0.859\n",
      "\n",
      "EPOCH 4 ...\n",
      "Validation Accuracy = 0.887\n",
      "\n",
      "EPOCH 5 ...\n",
      "Validation Accuracy = 0.899\n",
      "\n",
      "EPOCH 6 ...\n",
      "Validation Accuracy = 0.923\n",
      "\n",
      "EPOCH 7 ...\n",
      "Validation Accuracy = 0.938\n",
      "\n",
      "EPOCH 8 ...\n",
      "Validation Accuracy = 0.939\n",
      "\n",
      "EPOCH 9 ...\n",
      "Validation Accuracy = 0.940\n",
      "\n",
      "EPOCH 10 ...\n",
      "Validation Accuracy = 0.948\n",
      "\n",
      "EPOCH 11 ...\n",
      "Validation Accuracy = 0.943\n",
      "\n",
      "EPOCH 12 ...\n",
      "Validation Accuracy = 0.957\n",
      "\n",
      "EPOCH 13 ...\n",
      "Validation Accuracy = 0.955\n",
      "\n",
      "EPOCH 14 ...\n",
      "Validation Accuracy = 0.956\n",
      "\n",
      "EPOCH 15 ...\n",
      "Validation Accuracy = 0.953\n",
      "\n",
      "EPOCH 16 ...\n",
      "Validation Accuracy = 0.965\n",
      "\n",
      "EPOCH 17 ...\n",
      "Validation Accuracy = 0.960\n",
      "\n",
      "EPOCH 18 ...\n",
      "Validation Accuracy = 0.962\n",
      "\n",
      "EPOCH 19 ...\n",
      "Validation Accuracy = 0.960\n",
      "\n",
      "EPOCH 20 ...\n",
      "Validation Accuracy = 0.963\n",
      "\n",
      "EPOCH 21 ...\n",
      "Validation Accuracy = 0.957\n",
      "\n",
      "EPOCH 22 ...\n",
      "Validation Accuracy = 0.963\n",
      "\n",
      "EPOCH 23 ...\n",
      "Validation Accuracy = 0.970\n",
      "\n",
      "EPOCH 24 ...\n",
      "Validation Accuracy = 0.967\n",
      "\n",
      "EPOCH 25 ...\n",
      "Validation Accuracy = 0.970\n",
      "\n",
      "EPOCH 26 ...\n",
      "Validation Accuracy = 0.963\n",
      "\n",
      "EPOCH 27 ...\n",
      "Validation Accuracy = 0.973\n",
      "\n",
      "EPOCH 28 ...\n",
      "Validation Accuracy = 0.971\n",
      "\n",
      "EPOCH 29 ...\n",
      "Validation Accuracy = 0.962\n",
      "\n",
      "EPOCH 30 ...\n",
      "Validation Accuracy = 0.965\n",
      "\n",
      "BATCH_SIZE 128\n",
      "Model saved\n"
     ]
    }
   ],
   "source": [
    "EPOCHS = 30\n",
    "BATCH_SIZE = 128\n",
    "rate = 0.001\n",
    "\n",
    "logits = LeNet(x)\n",
    "#cross_entropy = tf.nn.softmax_cross_entropy_with_logits(logits, one_hot_y)\n",
    "cross_entropy = tf.nn.softmax_cross_entropy_with_logits(logits=logits, labels=one_hot_y)\n",
    "loss_operation = tf.reduce_mean(cross_entropy)\n",
    "optimizer = tf.train.AdamOptimizer(learning_rate = rate)\n",
    "training_operation = optimizer.minimize(loss_operation)\n",
    "\n",
    "\n",
    "# ## Model Evaluation\n",
    "\n",
    "correct_prediction = tf.equal(tf.argmax(logits, 1), tf.argmax(one_hot_y, 1))\n",
    "accuracy_operation = tf.reduce_mean(tf.cast(correct_prediction, tf.float32))\n",
    "saver = tf.train.Saver()\n",
    "\n",
    "def evaluate(X_data, y_data):\n",
    "    num_examples = len(X_data)\n",
    "    total_accuracy = 0\n",
    "    sess = tf.get_default_session()\n",
    "    for offset in range(0, num_examples, BATCH_SIZE):\n",
    "        batch_x, batch_y = X_data[offset:offset+BATCH_SIZE], y_data[offset:offset+BATCH_SIZE]\n",
    "        accuracy = sess.run(accuracy_operation, feed_dict={x: batch_x, y: batch_y})\n",
    "        total_accuracy += (accuracy * len(batch_x))\n",
    "    return total_accuracy / num_examples\n",
    "\n",
    "\n",
    "# ## Train the Model\n",
    "# Run the training data through the training pipeline to train the model.\n",
    "\n",
    "with tf.Session() as sess:\n",
    "    sess.run(tf.global_variables_initializer())\n",
    "    num_examples = len(X_Train)\n",
    "    \n",
    "    print(\"Training...\")\n",
    "    print()\n",
    "    for i in range(EPOCHS):\n",
    "        X_Train, y_train = shuffle(X_Train, y_train)\n",
    "        for offset in range(0, num_examples, BATCH_SIZE):\n",
    "            end = offset + BATCH_SIZE\n",
    "            batch_x, batch_y = X_Train[offset:end], y_train[offset:end]\n",
    "            sess.run(training_operation, feed_dict={x: batch_x, y: batch_y})\n",
    "            \n",
    "        validation_accuracy = evaluate(X_validation, y_validation)\n",
    "        print(\"EPOCH {} ...\".format(i+1))\n",
    "        print(\"Validation Accuracy = {:.3f}\".format(validation_accuracy))\n",
    "        print()\n",
    "    print('BATCH_SIZE', BATCH_SIZE)\n",
    "    saver.save(sess, 'lenet')\n",
    "    print(\"Model saved\")\n",
    "    #=EPOCH 10 ...  Validation Accuracy = 0.933 BATCH_SIZE 128\n",
    "    #=EPOCH 60 ...  Validation Accuracy = 0.948 BATCH_SIZE 1000\n",
    "    #=EPOCH 100 ... Validation Accuracy = 0.971 BATCH_SIZE 128 'does not improve beyond .98 after 30~ or so\n",
    "    #=EPOCH 10 ...  Validation Accuracy = 0.075 BATCH_SIZE 12800\n",
    "    #=EPOCH 30 ...  Validation Accuracy = 0.929 BATCH_SIZE 1280\n",
    "    #=EPOCH 30 ...  Validation Accuracy = 0.903 BATCH_SIZE 12 # slow & UNSTABLE!\n",
    "    #=EPOCH 30 ...  Validation Accuracy = 0.948 BATCH_SIZE 328 #starts low flatten around 25~\n",
    "    #=EPOCH 30 ...  Validation Accuracy = 0.960 BATCH_SIZE 128 # seems like a winner!: stable!!\n",
    "    #=#cross_entropy = tf.nn.softmax_cross_entropy_with_logits(logits, one_hot_y)\n",
    "cross_entropy = tf.nn.softmax_cross_entropy_with_logits(logits=logits, labels=one_hot_y)\n"
   ]
  },
  {
   "cell_type": "markdown",
   "metadata": {
    "collapsed": true,
    "deletable": true,
    "editable": true
   },
   "source": [
    "### The last few iteration of the epoch seems unstable. This probably has to do with fact that SGD or model itself is unstable. Will test out new SGD."
   ]
  },
  {
   "cell_type": "code",
   "execution_count": 10,
   "metadata": {
    "collapsed": false,
    "deletable": true,
    "editable": true
   },
   "outputs": [
    {
     "name": "stdout",
     "output_type": "stream",
     "text": [
      "Test Accuracy = 0.896\n"
     ]
    }
   ],
   "source": [
    "# ## Evaluate the Model\n",
    "# Once you are completely satisfied with your model, evaluate the performance of the model on the test set.\n",
    "# \n",
    "# Be sure to only do this once!\n",
    "# \n",
    "# If you were to measure the performance of your trained model on the test set, then improve your model, and then measure the performance of your model on the test set again, that would invalidate your test results. You wouldn't get a true measure of how well your model would perform against real data.\n",
    "\n",
    "with tf.Session() as sess:\n",
    "    saver.restore(sess, tf.train.latest_checkpoint('.'))\n",
    "\n",
    "    test_accuracy = evaluate(X_Test, y_test)\n",
    "    print(\"Test Accuracy = {:.3f}\".format(test_accuracy))"
   ]
  },
  {
   "cell_type": "markdown",
   "metadata": {
    "collapsed": true,
    "deletable": true,
    "editable": true
   },
   "source": [
    "**Answer:**\n",
    "Great back to 91% again!"
   ]
  },
  {
   "cell_type": "markdown",
   "metadata": {
    "deletable": true,
    "editable": true
   },
   "source": [
    "### Question 4\n",
    "\n",
    "_How did you train your model? (Type of optimizer, batch size, epochs, hyperparameters, etc.)_\n"
   ]
  },
  {
   "cell_type": "markdown",
   "metadata": {
    "deletable": true,
    "editable": true
   },
   "source": [
    "**Answer:**\n",
    "    As shown above tried different batch & epoch for now.\n",
    "    Will revisit\n",
    "    \n",
    "Seems like, it's hard to improve on the original model beyond Using Grayscale"
   ]
  },
  {
   "cell_type": "markdown",
   "metadata": {
    "deletable": true,
    "editable": true
   },
   "source": [
    "### Question 5\n",
    "\n",
    "\n",
    "_What approach did you take in coming up with a solution to this problem? It may have been a process of trial and error, in which case, outline the steps you took to get to the final solution and why you chose those steps. Perhaps your solution involved an already well known implementation or architecture. In this case, discuss why you think this is suitable for the current problem._"
   ]
  },
  {
   "cell_type": "markdown",
   "metadata": {
    "deletable": true,
    "editable": true
   },
   "source": [
    "**Answer:**\n",
    "\n",
    "For now trial & Error. I will attempt to improve on it once I get through the rest of the Q & revisit the model. Certainly using different activation function, optimization, SDG, etc... would b part of it.\n",
    "-- Revisited w/ different optimizers & Learning rate. On other notebook I tried few different tricks like using Zscores and experiemented with different optimization and learning rate."
   ]
  },
  {
   "cell_type": "markdown",
   "metadata": {
    "deletable": true,
    "editable": true
   },
   "source": [
    "---\n",
    "\n",
    "## Step 3: Test a Model on New Images\n",
    "\n",
    "Take several pictures of traffic signs that you find on the web or around you (at least five), and run them through your classifier on your computer to produce example results. The classifier might not recognize some local signs but it could prove interesting nonetheless.\n",
    "\n",
    "You may find `signnames.csv` useful as it contains mappings from the class id (integer) to the actual sign name."
   ]
  },
  {
   "cell_type": "markdown",
   "metadata": {
    "deletable": true,
    "editable": true
   },
   "source": [
    "### Implementation\n",
    "\n",
    "Use the code cell (or multiple code cells, if necessary) to implement the first step of your project. Once you have completed your implementation and are satisfied with the results, be sure to thoroughly answer the questions that follow."
   ]
  },
  {
   "cell_type": "markdown",
   "metadata": {
    "collapsed": false,
    "deletable": true,
    "editable": true
   },
   "source": [
    "#### - Here's code used to get the external images into the environment\n",
    "print (\"\"\"import cv2\n",
    "import numpy as np\n",
    "from resizeimage import resizeimage\n",
    "import matplotlib.pyplot as plt\n",
    "\n",
    "fnm = '../ExtendedSigns/16.jpeg'\n",
    "\n",
    "outF =fnm.replace('.jpg', 'o.jpg')\n",
    "outF =fnm.replace('.png', 'o.jpg')\n",
    "outF =fnm.replace('.jpeg', 'o.jpg')\n",
    "\n",
    "with open(fnm, 'r+b') as f:\n",
    "    with Image.open(f) as image:\n",
    "        cover = resizeimage.resize_cover(image, [32,32])\n",
    "        cover.save(outF, image.format)\n",
    "image = cv2.imread(outF, flags=cv2.IMREAD_COLOR)\n",
    "\n",
    "print(image.shape)\"\"\")"
   ]
  },
  {
   "cell_type": "code",
   "execution_count": 11,
   "metadata": {
    "collapsed": false,
    "deletable": true,
    "editable": true
   },
   "outputs": [
    {
     "name": "stdout",
     "output_type": "stream",
     "text": [
      "10o.jpeg [' 32', 'End of all speed and passing limits']\n",
      "11o.jpg [' 2', 'Speed limit (50km/h)']\n",
      "12o.jpg [' 0', 'Speed limit (20km/h)']\n",
      "13o.jpg [' 12', 'Priority road']\n",
      "14o.jpg [' 33', 'Turn right ahead']\n",
      "15o.jpg [' 12', 'Priority road']\n",
      "16o.jpg [' 35', 'Ahead only']\n",
      "1o.jpg [' 23', 'Slippery road']\n",
      "2o.jpg [' 38', 'Keep right']\n",
      "3o.jpeg [' 38', 'Keep right']\n",
      "4o.jpg [' 3', 'Speed limit (60km/h)']\n",
      "5o.jpg [' 31', 'Wild animals crossing']\n",
      "6o.jpeg [' 11', 'Right-of-way at the next intersection']\n",
      "7o.jpg [' 19', 'Dangerous curve to the left']\n",
      "8o.jpg [' 1', 'Speed limit (30km/h)']\n",
      "9o.jpeg [' 8', 'Speed limit (120km/h) #']\n"
     ]
    },
    {
     "data": {
      "image/png": "[encoded data removed]",
      "text/plain": [
       "<matplotlib.figure.Figure at 0x7fa68c277f60>"
      ]
     },
     "metadata": {},
     "output_type": "display_data"
    },
    {
     "data": {
      "image/png": "[encoded data removed]",
      "text/plain": [
       "<matplotlib.figure.Figure at 0x7fa683137c50>"
      ]
     },
     "metadata": {},
     "output_type": "display_data"
    },
    {
     "data": {
      "image/png": "[encoded data removed]",
      "text/plain": [
       "<matplotlib.figure.Figure at 0x7fa6c7f5e160>"
      ]
     },
     "metadata": {},
     "output_type": "display_data"
    },
    {
     "data": {
      "image/png": "[encoded data removed]",
      "text/plain": [
       "<matplotlib.figure.Figure at 0x7fa6c7f21780>"
      ]
     },
     "metadata": {},
     "output_type": "display_data"
    },
    {
     "data": {
      "image/png": "[encoded data removed]",
      "text/plain": [
       "<matplotlib.figure.Figure at 0x7fa6c7ef3a90>"
      ]
     },
     "metadata": {},
     "output_type": "display_data"
    },
    {
     "data": {
      "image/png": "[encoded data removed]",
      "text/plain": [
       "<matplotlib.figure.Figure at 0x7fa6c7ebab38>"
      ]
     },
     "metadata": {},
     "output_type": "display_data"
    },
    {
     "data": {
      "image/png": "[encoded data removed]",
      "text/plain": [
       "<matplotlib.figure.Figure at 0x7fa6c7e0fc18>"
      ]
     },
     "metadata": {},
     "output_type": "display_data"
    },
    {
     "data": {
      "image/png": "[encoded data removed]",
      "text/plain": [
       "<matplotlib.figure.Figure at 0x7fa6c7ddf160>"
      ]
     },
     "metadata": {},
     "output_type": "display_data"
    },
    {
     "data": {
      "image/png": "[encoded data removed]",
      "text/plain": [
       "<matplotlib.figure.Figure at 0x7fa6c7db13c8>"
      ]
     },
     "metadata": {},
     "output_type": "display_data"
    },
    {
     "data": {
      "image/png": "[encoded data removed]",
      "text/plain": [
       "<matplotlib.figure.Figure at 0x7fa6c7d7b5c0>"
      ]
     },
     "metadata": {},
     "output_type": "display_data"
    },
    {
     "data": {
      "image/png": "[encoded data removed]",
      "text/plain": [
       "<matplotlib.figure.Figure at 0x7fa6c7d4d898>"
      ]
     },
     "metadata": {},
     "output_type": "display_data"
    },
    {
     "data": {
      "image/png": "[encoded data removed]",
      "text/plain": [
       "<matplotlib.figure.Figure at 0x7fa6c7c96a58>"
      ]
     },
     "metadata": {},
     "output_type": "display_data"
    },
    {
     "data": {
      "image/png": "[encoded data removed]",
      "text/plain": [
       "<matplotlib.figure.Figure at 0x7fa6c7c69cf8>"
      ]
     },
     "metadata": {},
     "output_type": "display_data"
    },
    {
     "data": {
      "image/png": "[encoded data removed]",
      "text/plain": [
       "<matplotlib.figure.Figure at 0x7fa6c7c32e80>"
      ]
     },
     "metadata": {},
     "output_type": "display_data"
    },
    {
     "data": {
      "image/png": "[encoded data removed]",
      "text/plain": [
       "<matplotlib.figure.Figure at 0x7fa6c7c0d1d0>"
      ]
     },
     "metadata": {},
     "output_type": "display_data"
    },
    {
     "data": {
      "image/png": "[encoded data removed]",
      "text/plain": [
       "<matplotlib.figure.Figure at 0x7fa6c7b56438>"
      ]
     },
     "metadata": {},
     "output_type": "display_data"
    }
   ],
   "source": [
    "import cv2, csv, glob\n",
    "import numpy as np\n",
    "import matplotlib.pyplot as plt\n",
    "\n",
    "%matplotlib inline\n",
    "\n",
    "newD = {}\n",
    "reader = csv.reader(open('./ExtSigns/labels.csv', 'r'))\n",
    "for row in reader: \n",
    "    try: newD[row[0]] = row[1:]\n",
    "    except: print('Row not int', row)\n",
    "    #for fNm in glob.glob('./ExtSigns/*o.jpg'):\n",
    "\n",
    "keys = list(newD.keys())\n",
    "keys.sort()\n",
    "X_ntest = np.zeros((len(keys), 32,32,1), np.int16)\n",
    "y_ntest = np.zeros(len(keys), np.int16)\n",
    "for i in range(len(keys)):\n",
    "    fnm = './ExtSigns/'+keys[i]\n",
    "    image = cv2.imread(fnm, flags=cv2.IMREAD_COLOR)\n",
    "    gray_image = cv2.cvtColor(image, cv2.COLOR_BGR2GRAY)\n",
    "    X_ntest[i,:,:,:] = np.expand_dims(gray_image, axis=3)\n",
    "    y_ntest[i] = int( newD[keys[i]][0] )\n",
    "    print(keys[i], newD[keys[i]])\n",
    "    plt.figure(figsize=(1,1))\n",
    "    plt.imshow(gray_image.squeeze(), cmap=\"gray\")"
   ]
  },
  {
   "cell_type": "markdown",
   "metadata": {
    "deletable": true,
    "editable": true
   },
   "source": [
    "** Nota Bene ** \n",
    "The last one is 130kmh sign,which has no classifier. I wanted to know would happen to the model with that. So, with that out it's prbably a bit higher."
   ]
  },
  {
   "cell_type": "code",
   "execution_count": 12,
   "metadata": {
    "collapsed": false,
    "deletable": true,
    "editable": true
   },
   "outputs": [
    {
     "name": "stdout",
     "output_type": "stream",
     "text": [
      "New Test Accuracy = 0.750\n"
     ]
    }
   ],
   "source": [
    "with tf.Session() as sess:\n",
    "    saver.restore(sess, tf.train.latest_checkpoint('.'))\n",
    "\n",
    "    ntest_accuracy = evaluate(X_ntest, y_ntest)\n",
    "    print(\"New Test Accuracy = {:.3f}\".format(ntest_accuracy))"
   ]
  },
  {
   "cell_type": "markdown",
   "metadata": {
    "deletable": true,
    "editable": true
   },
   "source": [
    "## Nota Bene\n",
    "Actually Accuracy is much higher, as last image was a fluke 130km is NOT in the classifier. Only 2/15 images wrong  = 87% correct!!!!\n",
    "\n",
    "Also, this jumps around quite a bit. From 70~near 90%, when I rerun it."
   ]
  },
  {
   "cell_type": "markdown",
   "metadata": {
    "deletable": true,
    "editable": true
   },
   "source": [
    "## Obviously we have a prblem prediction is pretty much @$!#.\n",
    "But with grayscale everything improved quite a bit. Now we know that the model is much more robust!\n",
    "\n",
    "----------------------\n",
    "The below shows why. The mean & std of the images are completely off!\n",
    "We need to change the Mu & Sigma from above.\n",
    "This is somekind of color prblem, then this would not be corrected by simple mu, sigma correction however. And looking at the pics in matplot shows that issue.\n",
    "Only simple way to correct that would put the images in same color scale or grayscale the image\n",
    "\n",
    "* Z scale failed miserably - see Traffic_Sign_Classifier-zScore.ipynb\n",
    "That's a deadEnd\n",
    "* Obviously Gray Scale worked!!!!!!!"
   ]
  },
  {
   "cell_type": "code",
   "execution_count": 13,
   "metadata": {
    "collapsed": false,
    "deletable": true,
    "editable": true,
    "scrolled": true
   },
   "outputs": [
    {
     "name": "stdout",
     "output_type": "stream",
     "text": [
      "O 254  12  69.23  60.33\n",
      "N 255  44 148.82  50.27\n",
      "O 255   9  76.74  63.79\n",
      "N 241   1 132.64  59.22\n",
      "O 255  18  86.38  54.87\n",
      "N 251   8 171.12  59.75\n",
      "O 255   6  99.02  72.75\n",
      "N 255  12 188.23  60.64\n",
      "O 255  12 110.00  60.25\n",
      "N 252  73 161.69  51.51\n",
      "O 255   6  99.02  72.75\n",
      "N 253  59 151.08  30.79\n",
      "O 255   7  80.61  68.05\n",
      "N 216   6  92.41  52.97\n",
      "O 255   5  69.90  64.98\n",
      "N 252  31 134.24  51.94\n",
      "O 255   7  91.21  67.27\n",
      "N 255  42 129.88  98.92\n",
      "O 255   7  91.21  67.27\n",
      "N 255  38 147.71  71.37\n",
      "O 255   6  64.90  54.41\n",
      "N 255   0 172.29  98.64\n",
      "O 247   5  36.28  30.03\n",
      "N 255   2 193.12  72.36\n",
      "O 255  10 114.26  78.57\n",
      "N 222   3 136.45  48.96\n",
      "O 203   4  36.16  36.76\n",
      "N 255   0 191.43  89.90\n",
      "O 255   9 103.31  69.60\n",
      "N 228   3 119.23  69.32\n",
      "O 216   6  54.22  42.96\n",
      "N 246   6 120.19  49.81\n"
     ]
    }
   ],
   "source": [
    "for i in range(y_ntest.shape[0]):\n",
    "    ys = np.equal( y_test, y_ntest[i] )\n",
    "    xs = X_Test[ys, :, :, :]\n",
    "    xf = xs.flatten().reshape(xs.shape[0], (32*32*1))\n",
    "    print ( 'O %3d %3d %6.2f %6.2f' %(max(xf.flatten()),  min(xf.flatten()), \\\n",
    "                                    np.mean(xf.flatten()),np.std(xf.flatten())) )\n",
    "    xn = X_ntest[i]\n",
    "    print ( 'N %3d %3d %6.2f %6.2f' %(max(xn.flatten()),  min(xn.flatten()), \\\n",
    "                                    np.mean(xn.flatten()),np.std(xn.flatten())) )"
   ]
  },
  {
   "cell_type": "markdown",
   "metadata": {
    "deletable": true,
    "editable": true
   },
   "source": [
    "### Question 6\n",
    "\n",
    "_Choose five candidate images of traffic signs and provide them in the report. Are there any particular qualities of the image(s) that might make classification difficult? It could be helpful to plot the images in the notebook._\n",
    "\n"
   ]
  },
  {
   "cell_type": "markdown",
   "metadata": {
    "deletable": true,
    "editable": true
   },
   "source": [
    "**Answer:**"
   ]
  },
  {
   "cell_type": "code",
   "execution_count": 14,
   "metadata": {
    "collapsed": false,
    "deletable": true,
    "editable": true,
    "scrolled": true
   },
   "outputs": [
    {
     "name": "stdout",
     "output_type": "stream",
     "text": [
      "[32  3 11 12 33 12 35  3 38 38  3 18 11 19  1  8]\n",
      "[32  2  0 12 33 12 35 23 38 38  3 31 11 19  1  8]\n",
      "Predicted Speed limit (60km/h)\t Actual Speed limit (50km/h)\n",
      "Predicted Right-of-way at the next intersection\t Actual Speed limit (20km/h)\n",
      "Predicted Speed limit (60km/h)\t Actual Slippery road\n",
      "Predicted General caution\t Actual Wild animals crossing\n"
     ]
    },
    {
     "data": {
      "image/png": "[encoded data removed]",
      "text/plain": [
       "<matplotlib.figure.Figure at 0x7fa6c7afc588>"
      ]
     },
     "metadata": {},
     "output_type": "display_data"
    },
    {
     "data": {
      "image/png": "[encoded data removed]",
      "text/plain": [
       "<matplotlib.figure.Figure at 0x7fa6c7278208>"
      ]
     },
     "metadata": {},
     "output_type": "display_data"
    },
    {
     "data": {
      "image/png": "[encoded data removed]",
      "text/plain": [
       "<matplotlib.figure.Figure at 0x7fa6c7ab3588>"
      ]
     },
     "metadata": {},
     "output_type": "display_data"
    },
    {
     "data": {
      "image/png": "[encoded data removed]",
      "text/plain": [
       "<matplotlib.figure.Figure at 0x7fa6c720bdd8>"
      ]
     },
     "metadata": {},
     "output_type": "display_data"
    }
   ],
   "source": [
    "with tf.Session() as sess:\n",
    "    saver.restore(sess, tf.train.latest_checkpoint('.'))\n",
    "    sess = tf.get_default_session()\n",
    "    prediction=tf.argmax(logits,1)\n",
    "    best = sess.run([prediction],feed_dict={x: X_ntest, y: y_ntest})\n",
    "    print(best[0])\n",
    "    print(y_ntest)\n",
    "for i in range(len(y_ntest)):\n",
    "    if best[0][i] != y_ntest[i]:\n",
    "        plt.figure(figsize=(1,1))\n",
    "        plt.imshow(X_ntest[i].squeeze(), cmap=\"gray\")\n",
    "        print(\"Predicted %s\\t Actual %s\" %(SignD[best[0][i]], SignD[y_ntest[i]]))"
   ]
  },
  {
   "cell_type": "markdown",
   "metadata": {
    "deletable": true,
    "editable": true
   },
   "source": [
    "### Question 7\n",
    "\n",
    "_Is your model able to perform equally well on captured pictures when compared to testing on the dataset? The simplest way to do this check the accuracy of the predictions. For example, if the model predicted 1 out of 5 signs correctly, it's 20% accurate._\n",
    "\n",
    "_**NOTE:** You could check the accuracy manually by using `signnames.csv` (same directory). This file has a mapping from the class id (0-42) to the corresponding sign name. So, you could take the class id the model outputs, lookup the name in `signnames.csv` and see if it matches the sign from the image._\n"
   ]
  },
  {
   "cell_type": "markdown",
   "metadata": {
    "deletable": true,
    "editable": true
   },
   "source": [
    "**Answer:**"
   ]
  },
  {
   "cell_type": "code",
   "execution_count": 15,
   "metadata": {
    "collapsed": false,
    "deletable": true,
    "editable": true
   },
   "outputs": [
    {
     "name": "stdout",
     "output_type": "stream",
     "text": [
      "1 11o.jpg [' 2', 'Speed limit (50km/h)'] Speed limit (60km/h)\n",
      "2 12o.jpg [' 0', 'Speed limit (20km/h)'] Right-of-way at the next intersection\n",
      "7 1o.jpg [' 23', 'Slippery road'] Speed limit (60km/h)\n",
      "11 5o.jpg [' 31', 'Wild animals crossing'] General caution\n"
     ]
    },
    {
     "data": {
      "image/png": "[encoded data removed]",
      "text/plain": [
       "<matplotlib.figure.Figure at 0x7fa660324e48>"
      ]
     },
     "metadata": {},
     "output_type": "display_data"
    },
    {
     "data": {
      "image/png": "[encoded data removed]",
      "text/plain": [
       "<matplotlib.figure.Figure at 0x7fa6c7191390>"
      ]
     },
     "metadata": {},
     "output_type": "display_data"
    },
    {
     "data": {
      "image/png": "[encoded data removed]",
      "text/plain": [
       "<matplotlib.figure.Figure at 0x7fa6c715f898>"
      ]
     },
     "metadata": {},
     "output_type": "display_data"
    },
    {
     "data": {
      "image/png": "[encoded data removed]",
      "text/plain": [
       "<matplotlib.figure.Figure at 0x7fa6c7b88f28>"
      ]
     },
     "metadata": {},
     "output_type": "display_data"
    }
   ],
   "source": [
    "### Visualize the softmax probabilities here.\n",
    "### Feel free to use as many code cells as needed.\n",
    "for i in range(len(best[0])):\n",
    "    if best[0][i] != y_ntest[i]:\n",
    "        image = X_ntest[i,:,:,:]\n",
    "        print(i,keys[i], newD[keys[i]], SignD[best[0][i]])\n",
    "        plt.figure(figsize=(1,1))\n",
    "        plt.imshow(image.squeeze(), cmap=\"gray\")"
   ]
  },
  {
   "cell_type": "markdown",
   "metadata": {
    "deletable": true,
    "editable": true
   },
   "source": [
    "### Question 8\n",
    "\n",
    "*Use the model's softmax probabilities to visualize the **certainty** of its predictions, [`tf.nn.top_k`](https://www.tensorflow.org/versions/r0.12/api_docs/python/nn.html#top_k) could prove helpful here. Which predictions is the model certain of? Uncertain? If the model was incorrect in its initial prediction, does the correct prediction appear in the top k? (k should be 5 at most)*\n",
    "\n",
    "`tf.nn.top_k` will return the values and indices (class ids) of the top k predictions. So if k=3, for each sign, it'll return the 3 largest probabilities (out of a possible 43) and the correspoding class ids.\n",
    "\n",
    "Take this numpy array as an example:\n",
    "\n",
    "```\n",
    "# (5, 6) array\n",
    "a = np.array([[ 0.24879643,  0.07032244,  0.12641572,  0.34763842,  0.07893497,\n",
    "         0.12789202],\n",
    "       [ 0.28086119,  0.27569815,  0.08594638,  0.0178669 ,  0.18063401,\n",
    "         0.15899337],\n",
    "       [ 0.26076848,  0.23664738,  0.08020603,  0.07001922,  0.1134371 ,\n",
    "         0.23892179],\n",
    "       [ 0.11943333,  0.29198961,  0.02605103,  0.26234032,  0.1351348 ,\n",
    "         0.16505091],\n",
    "       [ 0.09561176,  0.34396535,  0.0643941 ,  0.16240774,  0.24206137,\n",
    "         0.09155967]])\n",
    "```\n",
    "\n",
    "Running it through `sess.run(tf.nn.top_k(tf.constant(a), k=3))` produces:\n",
    "\n",
    "```\n",
    "TopKV2(values=array([[ 0.34763842,  0.24879643,  0.12789202],\n",
    "       [ 0.28086119,  0.27569815,  0.18063401],\n",
    "       [ 0.26076848,  0.23892179,  0.23664738],\n",
    "       [ 0.29198961,  0.26234032,  0.16505091],\n",
    "       [ 0.34396535,  0.24206137,  0.16240774]]), indices=array([[3, 0, 5],\n",
    "       [0, 1, 4],\n",
    "       [0, 5, 1],\n",
    "       [1, 3, 5],\n",
    "       [1, 4, 3]], dtype=int32))\n",
    "```\n",
    "\n",
    "Looking just at the first row we get `[ 0.34763842,  0.24879643,  0.12789202]`, you can confirm these are the 3 largest probabilities in `a`. You'll also notice `[3, 0, 5]` are the corresponding indices."
   ]
  },
  {
   "cell_type": "markdown",
   "metadata": {
    "deletable": true,
    "editable": true
   },
   "source": [
    "**Answer:**"
   ]
  },
  {
   "cell_type": "markdown",
   "metadata": {
    "deletable": true,
    "editable": true
   },
   "source": [
    "> **Note**: Once you have completed all of the code implementations and successfully answered each question above, you may finalize your work by exporting the iPython Notebook as an HTML document. You can do this by using the menu above and navigating to  \\n\",\n",
    "    \"**File -> Download as -> HTML (.html)**. Include the finished document along with this notebook as your submission."
   ]
  },
  {
   "cell_type": "code",
   "execution_count": 16,
   "metadata": {
    "collapsed": false,
    "deletable": true,
    "editable": true
   },
   "outputs": [],
   "source": [
    "with tf.Session() as sess:\n",
    "    saver.restore(sess, tf.train.latest_checkpoint('.'))\n",
    "    sess = tf.get_default_session()\n",
    "    top3 = sess.run(tf.nn.top_k(tf.constant(X_ntest), k=1))\n"
   ]
  },
  {
   "cell_type": "code",
   "execution_count": 26,
   "metadata": {
    "collapsed": false
   },
   "outputs": [
    {
     "data": {
      "text/plain": [
       "array([[220],\n",
       "       [207],\n",
       "       [198],\n",
       "       [199],\n",
       "       [201],\n",
       "       [199],\n",
       "       [199],\n",
       "       [201],\n",
       "       [193],\n",
       "       [208],\n",
       "       [201],\n",
       "       [209],\n",
       "       [238],\n",
       "       [225],\n",
       "       [197],\n",
       "       [207],\n",
       "       [218],\n",
       "       [229],\n",
       "       [237],\n",
       "       [235],\n",
       "       [232],\n",
       "       [233],\n",
       "       [232],\n",
       "       [230],\n",
       "       [231],\n",
       "       [230],\n",
       "       [231],\n",
       "       [236],\n",
       "       [238],\n",
       "       [236],\n",
       "       [232],\n",
       "       [230]], dtype=int16)"
      ]
     },
     "execution_count": 26,
     "metadata": {},
     "output_type": "execute_result"
    }
   ],
   "source": [
    "top3[0][0][0]"
   ]
  },
  {
   "cell_type": "code",
   "execution_count": 18,
   "metadata": {
    "collapsed": false,
    "deletable": true,
    "editable": true
   },
   "outputs": [
    {
     "name": "stdout",
     "output_type": "stream",
     "text": [
      "(32, 1)\n"
     ]
    }
   ],
   "source": [
    "\n",
    "print(top3[1][1][2].shape)\n",
    "x = \"will give you class prediction probability for i-th data set, i_label is the index that goes from 0 to 3 corresponding probability scores of classes with highest to lowest chances of being the class in the test image.\""
   ]
  }
 ],
 "metadata": {
  "anaconda-cloud": {},
  "kernelspec": {
   "display_name": "Python [default]",
   "language": "python",
   "name": "python3"
  },
  "language_info": {
   "codemirror_mode": {
    "name": "ipython",
    "version": 3
   },
   "file_extension": ".py",
   "mimetype": "text/x-python",
   "name": "python",
   "nbconvert_exporter": "python",
   "pygments_lexer": "ipython3",
   "version": "3.5.2"
  }
 },
 "nbformat": 4,
 "nbformat_minor": 1
}
